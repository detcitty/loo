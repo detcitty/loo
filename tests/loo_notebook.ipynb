{
 "cells": [
  {
   "cell_type": "code",
   "execution_count": 1,
   "metadata": {
    "collapsed": false
   },
   "outputs": [],
   "source": [
    "#!/usr/bin/env python\n",
    "# -*- coding: utf-8 -*-\n",
    "\n",
    "import pandas as pd\n",
    "import numpy as np\n",
    "import scipy as sp\n",
    "import patsy\n",
    "import pystan\n",
    "\n",
    "import statsmodels.api as sm\n",
    "\n",
    "pd.set_option('max_columns', 50)\n"
   ]
  },
  {
   "cell_type": "code",
   "execution_count": 9,
   "metadata": {
    "collapsed": false
   },
   "outputs": [],
   "source": [
    "url = \"http://stat.columbia.edu/~gelman/arm/examples/arsenic/wells.dat\"\n",
    "wells = pd.read_table(url, sep='\\s+', header=0, index_col=0)\n",
    "wells[\"dist100\"] = wells['dist']/100\n",
    "\n",
    "y = wells['switch']\n",
    "wellsNP = wells.as_matrix()\n",
    "y_np = wellsNP[:, 0]\n",
    "\n",
    "a = sp.special.logit(np.mean(y_np))\n",
    "\n",
    "f = \"~ 0 + dist + arsenic\"\n",
    "x = patsy.dmatrix(f, wells, return_type='dataframe')\n",
    "nrow, ncol = x.shape\n",
    "\n",
    "\n",
    "data_loo = {'N': nrow , 'P': ncol, 'y': y, 'x': x, 'a': a }\n"
   ]
  },
  {
   "cell_type": "code",
   "execution_count": 3,
   "metadata": {
    "collapsed": true
   },
   "outputs": [],
   "source": [
    "\n",
    "logistic = '''\n",
    "data {\n",
    "  int<lower=0> N; \n",
    "  int<lower=0> P;\n",
    "  int<lower=0,upper=1> y[N];\n",
    "  matrix[N,P] x; \n",
    "  real a;\n",
    "}\n",
    "parameters {\n",
    "  real beta0;\n",
    "  vector[P] beta;\n",
    "}\n",
    "model {\n",
    "  beta0 ~ student_t(7, a, 0.1);\n",
    "  beta ~ student_t(7, 0, 1);\n",
    "  y ~ bernoulli_logit(beta0 + x * beta);\n",
    "}\n",
    "generated quantities {\n",
    "  vector[N] log_lik;\n",
    "  for (n in 1:N)\n",
    "    log_lik[n] <- bernoulli_logit_log(y[n], beta0 + x[n] * beta);\n",
    "}\n",
    "'''"
   ]
  },
  {
   "cell_type": "code",
   "execution_count": 4,
   "metadata": {
    "collapsed": false
   },
   "outputs": [],
   "source": [
    "fit1 = pystan.stan(model_code=logistic, data=data_loo, iter=1000, chains=4)\n",
    "\n"
   ]
  },
  {
   "cell_type": "code",
   "execution_count": 5,
   "metadata": {
    "collapsed": false
   },
   "outputs": [],
   "source": [
    "parameter_name = \"log_lik\"\n",
    "\n",
    "matrix = fit1.extract(pars=parameter_name)\n",
    "logLik = matrix['log_lik']\n"
   ]
  },
  {
   "cell_type": "code",
   "execution_count": 7,
   "metadata": {
    "collapsed": false
   },
   "outputs": [],
   "source": [
    "import sys\n",
    "sys.path.insert(0, '/Users/detcitty/Documents/Stan/loo/loo/')\n",
    "\n",
    "from psisloo import psisloo\n",
    "\n"
   ]
  },
  {
   "cell_type": "code",
   "execution_count": 8,
   "metadata": {
    "collapsed": false
   },
   "outputs": [
    {
     "name": "stderr",
     "output_type": "stream",
     "text": [
      "/Users/detcitty/Documents/Stan/loo/loo/gpdfitnew.py:74: FutureWarning: elementwise comparison failed; returning scalar instead, but in the future will perform elementwise comparison\n",
      "  elif sort == 'in-place':\n",
      "/Users/detcitty/Documents/Stan/loo/loo/gpdfitnew.py:92: VisibleDeprecationWarning: using a non-integer number instead of an integer will result in an error in the future\n",
      "  bs /= 3 * x[sort[np.floor(n/4 + 0.5) - 1]]\n"
     ]
    },
    {
     "name": "stdout",
     "output_type": "stream",
     "text": [
      "(-1969.0019513205257, array([-0.32823959, -0.71973467, -1.16089959, ..., -0.81852037,\n",
      "       -0.77100823, -0.60962946]), array([-0.04715097, -0.13412989,  0.02238858, ..., -0.2691381 ,\n",
      "       -0.25719099, -0.12838326]))\n"
     ]
    }
   ],
   "source": [
    "test = psisloo(logLik)\n",
    "print test"
   ]
  },
  {
   "cell_type": "code",
   "execution_count": null,
   "metadata": {
    "collapsed": true
   },
   "outputs": [],
   "source": []
  }
 ],
 "metadata": {
  "kernelspec": {
   "display_name": "Python 2",
   "language": "python",
   "name": "python2"
  }
 },
 "nbformat": 4,
 "nbformat_minor": 0
}
