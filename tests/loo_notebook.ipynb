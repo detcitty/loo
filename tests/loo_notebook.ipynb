{
 "cells": [
  {
   "cell_type": "code",
   "execution_count": 185,
   "metadata": {
    "collapsed": false
   },
   "outputs": [
    {
     "name": "stdout",
     "output_type": "stream",
     "text": [
      "Context(prec=28, rounding=ROUND_HALF_EVEN, Emin=-999999999, Emax=999999999, capitals=1, flags=[], traps=[Overflow, DivisionByZero, InvalidOperation])\n"
     ]
    }
   ],
   "source": [
    "#!/usr/bin/env python\n",
    "# -*- coding: utf-8 -*-\n",
    "\n",
    "%matplotlib inline\n",
    "\n",
    "\n",
    "import pandas as pd\n",
    "import numpy as np\n",
    "import scipy as sp\n",
    "import patsy\n",
    "import pystan\n",
    "#from pystan import StanFit4model\n",
    "\n",
    "from rpy2.robjects.packages import importr\n",
    "from rpy2.robjects import pandas2ri\n",
    "pandas2ri.activate()\n",
    "\n",
    "\n",
    "\n",
    "R = ro.r\n",
    "\n",
    "import statsmodels.api as sm\n",
    "\n",
    "import rpy2.robjects as ro\n",
    "#import pandas.rpy.common as com\n",
    "\n",
    "import matplotlib.pyplot as platform\n",
    "pd.set_option('max_columns', 50)\n",
    "\n",
    "from decimal import *\n",
    "\n",
    "print getcontext()\n",
    "\n",
    "\n"
   ]
  },
  {
   "cell_type": "code",
   "execution_count": 177,
   "metadata": {
    "collapsed": false
   },
   "outputs": [
    {
     "name": "stdout",
     "output_type": "stream",
     "text": [
      "   switch  arsenic       dist  assoc  educ\n",
      "1       1     2.36  16.826000      0     0\n",
      "2       1     0.71  47.321999      0     0\n",
      "3       0     2.07  20.966999      0    10\n",
      "4       1     1.15  21.486000      0    12\n",
      "5       1     1.10  40.874001      1    14\n",
      "[ 1.  1.  0. ...,  0.  0.  1.]\n"
     ]
    }
   ],
   "source": [
    "\n",
    "url = \"http://stat.columbia.edu/~gelman/arm/examples/arsenic/wells.dat\"\n",
    "wells = pd.read_table(url, sep='\\s+', header=0, index_col=0)\n",
    "wells[\"dist100\"] = wells['dist']/100\n",
    "\n",
    "y = wells['switch']\n",
    "wellsNp = wells.as_matrix()\n",
    "y_mod = wellsNp[:, 0]\n",
    "\n",
    "y_hat = y.transpose()\n",
    "\n",
    "y_mean = np.mean(y_mod)\n",
    "\n",
    "s = sp.special.logit(y_mean)\n",
    "\n",
    "logit = np.log(y_mean / (1 - y_mean))\n",
    "\n",
    "f = \"~ 0 + dist + arsenic\"\n",
    "mat = patsy.dmatrix(f, wells, return_type='dataframe')\n",
    "nrow, ncol = mat.shape\n",
    "\n",
    "\n",
    "data_loo = {'N': nrow , 'P': ncol, 'y': y, 'x': mat, 'a': s }\n"
   ]
  },
  {
   "cell_type": "code",
   "execution_count": 178,
   "metadata": {
    "collapsed": true
   },
   "outputs": [],
   "source": [
    "\n",
    "logistic = '''\n",
    "data {\n",
    "  int<lower=0> N; \n",
    "  int<lower=0> P;\n",
    "  int<lower=0,upper=1> y[N];\n",
    "  matrix[N,P] x; \n",
    "  real a;\n",
    "}\n",
    "parameters {\n",
    "  real beta0;\n",
    "  vector[P] beta;\n",
    "}\n",
    "model {\n",
    "  beta0 ~ student_t(7, a, 0.1);\n",
    "  beta ~ student_t(7, 0, 1);\n",
    "  y ~ bernoulli_logit(beta0 + x * beta);\n",
    "}\n",
    "generated quantities {\n",
    "  vector[N] log_lik;\n",
    "  for (n in 1:N)\n",
    "    log_lik[n] <- bernoulli_logit_log(y[n], beta0 + x[n] * beta);\n",
    "}\n",
    "'''"
   ]
  },
  {
   "cell_type": "code",
   "execution_count": 176,
   "metadata": {
    "collapsed": false
   },
   "outputs": [],
   "source": [
    "fit1 = pystan.stan(model_code=logistic, data=data_loo, iter=1000, chains=4)\n",
    "\n",
    "print fit1"
   ]
  },
  {
   "cell_type": "code",
   "execution_count": 191,
   "metadata": {
    "collapsed": false
   },
   "outputs": [
    {
     "name": "stdout",
     "output_type": "stream",
     "text": [
      "[[-0.30339556 -0.7058634  -1.21496156 ..., -0.84882572 -0.79490934\n",
      "  -0.58753698]\n",
      " [-0.33984576 -0.68792866 -1.14311882 ..., -0.86652432 -0.81022652\n",
      "  -0.57661097]\n",
      " [-0.36504355 -0.74197482 -1.08272063 ..., -0.77753159 -0.73659556\n",
      "  -0.63964319]\n",
      " ..., \n",
      " [-0.35989739 -0.75971277 -1.08815556 ..., -0.75928492 -0.71986293\n",
      "  -0.65466318]\n",
      " [-0.31933174 -0.70103874 -1.18130564 ..., -0.84327952 -0.79273562\n",
      "  -0.59013805]\n",
      " [-0.33255534 -0.76323267 -1.14049535 ..., -0.78802525 -0.73643974\n",
      "  -0.63754257]]\n"
     ]
    }
   ],
   "source": [
    "#log_like = pystan.stanfit4model\n",
    "#print fit1\n",
    "\n",
    "parameter_name = \"log_lik\"\n",
    "type(fit1)\n",
    "matrix = fit1.extract(pars=parameter_name)\n",
    "print matrix['log_lik']\n",
    "#np.take(fit1, parameter_name)"
   ]
  },
  {
   "cell_type": "code",
   "execution_count": null,
   "metadata": {
    "collapsed": true
   },
   "outputs": [],
   "source": []
  }
 ],
 "metadata": {
  "kernelspec": {
   "display_name": "Python 2",
   "language": "python",
   "name": "python2"
  },
  "language_info": {
   "codemirror_mode": {
    "name": "ipython",
    "version": 2
   },
   "file_extension": ".py",
   "mimetype": "text/x-python",
   "name": "python",
   "nbconvert_exporter": "python",
   "pygments_lexer": "ipython2",
   "version": "2.7.11"
  }
 },
 "nbformat": 4,
 "nbformat_minor": 0
}
