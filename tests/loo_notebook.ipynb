{
 "cells": [
  {
   "cell_type": "code",
   "execution_count": 5,
   "metadata": {
    "collapsed": false
   },
   "outputs": [],
   "source": [
    "#!/usr/bin/env python\n",
    "# -*- coding: utf-8 -*-\n",
    "\n",
    "\n",
    "import pandas as pd\n",
    "import numpy as np\n",
    "import scipy as sp\n",
    "import patsy\n",
    "import pystan\n",
    "#from pystan import StanFit4model\n",
    "\n",
    "from rpy2.robjects.packages import importr\n",
    "from rpy2.robjects import pandas2ri\n",
    "pandas2ri.activate()\n",
    "\n",
    "\n",
    "\n",
    "import statsmodels.api as sm\n",
    "\n",
    "import rpy2.robjects as ro\n",
    "#import pandas.rpy.common as com\n",
    "\n",
    "pd.set_option('max_columns', 50)\n",
    "\n",
    "\n",
    "\n",
    "\n"
   ]
  },
  {
   "cell_type": "code",
   "execution_count": 6,
   "metadata": {
    "collapsed": false
   },
   "outputs": [],
   "source": [
    "\n",
    "url = \"http://stat.columbia.edu/~gelman/arm/examples/arsenic/wells.dat\"\n",
    "wells = pd.read_table(url, sep='\\s+', header=0, index_col=0)\n",
    "wells[\"dist100\"] = wells['dist']/100\n",
    "\n",
    "y = wells['switch']\n",
    "wellsNp = wells.as_matrix()\n",
    "y_mod = wellsNp[:, 0]\n",
    "\n",
    "y_hat = y.transpose()\n",
    "\n",
    "y_mean = np.mean(y_mod)\n",
    "\n",
    "s = sp.special.logit(y_mean)\n",
    "\n",
    "logit = np.log(y_mean / (1 - y_mean))\n",
    "\n",
    "f = \"~ 0 + dist + arsenic\"\n",
    "mat = patsy.dmatrix(f, wells, return_type='dataframe')\n",
    "nrow, ncol = mat.shape\n",
    "\n",
    "\n",
    "data_loo = {'N': nrow , 'P': ncol, 'y': y, 'x': mat, 'a': s }\n"
   ]
  },
  {
   "cell_type": "code",
   "execution_count": 7,
   "metadata": {
    "collapsed": true
   },
   "outputs": [],
   "source": [
    "\n",
    "logistic = '''\n",
    "data {\n",
    "  int<lower=0> N; \n",
    "  int<lower=0> P;\n",
    "  int<lower=0,upper=1> y[N];\n",
    "  matrix[N,P] x; \n",
    "  real a;\n",
    "}\n",
    "parameters {\n",
    "  real beta0;\n",
    "  vector[P] beta;\n",
    "}\n",
    "model {\n",
    "  beta0 ~ student_t(7, a, 0.1);\n",
    "  beta ~ student_t(7, 0, 1);\n",
    "  y ~ bernoulli_logit(beta0 + x * beta);\n",
    "}\n",
    "generated quantities {\n",
    "  vector[N] log_lik;\n",
    "  for (n in 1:N)\n",
    "    log_lik[n] <- bernoulli_logit_log(y[n], beta0 + x[n] * beta);\n",
    "}\n",
    "'''"
   ]
  },
  {
   "cell_type": "code",
   "execution_count": 13,
   "metadata": {
    "collapsed": false
   },
   "outputs": [],
   "source": [
    "fit1 = pystan.stan(model_code=logistic, data=data_loo, iter=1000, chains=4)\n",
    "\n",
    "#print(fit1)"
   ]
  },
  {
   "cell_type": "code",
   "execution_count": 10,
   "metadata": {
    "collapsed": false
   },
   "outputs": [
    {
     "name": "stdout",
     "output_type": "stream",
     "text": [
      "[[-0.31205243 -0.7299264  -1.18988203 ..., -0.80826273 -0.76167722\n",
      "  -0.61563212]\n",
      " [-0.33393141 -0.69647098 -1.15296022 ..., -0.86170177 -0.8042652\n",
      "  -0.58091826]\n",
      " [-0.33215004 -0.77216172 -1.13833661 ..., -0.75068446 -0.71190467\n",
      "  -0.66108946]\n",
      " ..., \n",
      " [-0.32657014 -0.74721188 -1.15526254 ..., -0.78085149 -0.73858918\n",
      "  -0.63644058]\n",
      " [-0.32295474 -0.73147656 -1.16616104 ..., -0.7951284  -0.75292151\n",
      "  -0.62389538]\n",
      " [-0.32303773 -0.76167339 -1.16032185 ..., -0.79580786 -0.74196517\n",
      "  -0.63212885]]\n"
     ]
    }
   ],
   "source": [
    "#log_like = pystan.stanfit4model\n",
    "#print fit1\n",
    "\n",
    "parameter_name = \"log_lik\"\n",
    "type(fit1)\n",
    "matrix = fit1.extract(pars=parameter_name)\n",
    "logLik = matrix['log_lik']\n",
    "#print(matrix['log_lik'])\n",
    "#np.take(fit1, parameter_name)"
   ]
  },
  {
   "cell_type": "code",
   "execution_count": 11,
   "metadata": {
    "collapsed": true
   },
   "outputs": [],
   "source": [
    "import sys\n",
    "sys.path.insert(0, '/Users/detcitty/Documents/Stan/loo/loo/')\n",
    "\n",
    "import loo\n",
    "\n"
   ]
  },
  {
   "cell_type": "code",
   "execution_count": 12,
   "metadata": {
    "collapsed": false
   },
   "outputs": [
    {
     "name": "stderr",
     "output_type": "stream",
     "text": [
      "/Users/detcitty/Documents/Stan/loo/loo/loo.py:230: FutureWarning: elementwise comparison failed; returning scalar instead, but in the future will perform elementwise comparison\n",
      "  elif sort == 'in-place':\n",
      "/Users/detcitty/Documents/Stan/loo/loo/loo.py:248: VisibleDeprecationWarning: using a non-integer number instead of an integer will result in an error in the future\n",
      "  bs /= 3 * x[sort[np.floor(n/4 + 0.5) - 1]]\n"
     ]
    }
   ],
   "source": [
    "test = loo.psisloo(logLik)"
   ]
  },
  {
   "cell_type": "code",
   "execution_count": null,
   "metadata": {
    "collapsed": true
   },
   "outputs": [],
   "source": []
  }
 ],
 "metadata": {
  "kernelspec": {
   "display_name": "Python 3",
   "language": "python",
   "name": "python3"
  }
 },
 "nbformat": 4,
 "nbformat_minor": 0
}
