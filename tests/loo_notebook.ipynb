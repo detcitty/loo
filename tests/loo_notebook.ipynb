{
 "cells": [
  {
   "cell_type": "code",
   "execution_count": 15,
   "metadata": {
    "collapsed": false
   },
   "outputs": [],
   "source": [
    "#!/usr/bin/env python\n",
    "# -*- coding: utf-8 -*-\n",
    "\n",
    "\n",
    "import pandas as pd\n",
    "import numpy as np\n",
    "import scipy as sp\n",
    "import patsy\n",
    "import pystan\n",
    "#from pystan import StanFit4model\n",
    "\n",
    "from rpy2.robjects.packages import importr\n",
    "from rpy2.robjects import pandas2ri\n",
    "pandas2ri.activate()\n",
    "\n",
    "\n",
    "\n",
    "import statsmodels.api as sm\n",
    "\n",
    "import rpy2.robjects as ro\n",
    "#import pandas.rpy.common as com\n",
    "\n",
    "pd.set_option('max_columns', 50)\n",
    "\n",
    "\n",
    "\n",
    "\n"
   ]
  },
  {
   "cell_type": "code",
   "execution_count": 2,
   "metadata": {
    "collapsed": false
   },
   "outputs": [],
   "source": [
    "\n",
    "url = \"http://stat.columbia.edu/~gelman/arm/examples/arsenic/wells.dat\"\n",
    "wells = pd.read_table(url, sep='\\s+', header=0, index_col=0)\n",
    "wells[\"dist100\"] = wells['dist']/100\n",
    "\n",
    "y = wells['switch']\n",
    "wellsNp = wells.as_matrix()\n",
    "y_mod = wellsNp[:, 0]\n",
    "\n",
    "y_hat = y.transpose()\n",
    "\n",
    "y_mean = np.mean(y_mod)\n",
    "\n",
    "s = sp.special.logit(y_mean)\n",
    "\n",
    "logit = np.log(y_mean / (1 - y_mean))\n",
    "\n",
    "f = \"~ 0 + dist + arsenic\"\n",
    "mat = patsy.dmatrix(f, wells, return_type='dataframe')\n",
    "nrow, ncol = mat.shape\n",
    "\n",
    "\n",
    "data_loo = {'N': nrow , 'P': ncol, 'y': y, 'x': mat, 'a': s }\n"
   ]
  },
  {
   "cell_type": "code",
   "execution_count": 3,
   "metadata": {
    "collapsed": true
   },
   "outputs": [],
   "source": [
    "\n",
    "logistic = '''\n",
    "data {\n",
    "  int<lower=0> N; \n",
    "  int<lower=0> P;\n",
    "  int<lower=0,upper=1> y[N];\n",
    "  matrix[N,P] x; \n",
    "  real a;\n",
    "}\n",
    "parameters {\n",
    "  real beta0;\n",
    "  vector[P] beta;\n",
    "}\n",
    "model {\n",
    "  beta0 ~ student_t(7, a, 0.1);\n",
    "  beta ~ student_t(7, 0, 1);\n",
    "  y ~ bernoulli_logit(beta0 + x * beta);\n",
    "}\n",
    "generated quantities {\n",
    "  vector[N] log_lik;\n",
    "  for (n in 1:N)\n",
    "    log_lik[n] <- bernoulli_logit_log(y[n], beta0 + x[n] * beta);\n",
    "}\n",
    "'''"
   ]
  },
  {
   "cell_type": "code",
   "execution_count": 4,
   "metadata": {
    "collapsed": false
   },
   "outputs": [],
   "source": [
    "fit1 = pystan.stan(model_code=logistic, data=data_loo, iter=1000, chains=4)\n",
    "\n",
    "#print(fit1)"
   ]
  },
  {
   "cell_type": "code",
   "execution_count": 5,
   "metadata": {
    "collapsed": false
   },
   "outputs": [],
   "source": [
    "#log_like = pystan.stanfit4model\n",
    "#print fit1\n",
    "\n",
    "parameter_name = \"log_lik\"\n",
    "type(fit1)\n",
    "matrix = fit1.extract(pars=parameter_name)\n",
    "logLik = matrix['log_lik']\n",
    "#print(matrix['log_lik'])\n",
    "#np.take(fit1, parameter_name)"
   ]
  },
  {
   "cell_type": "code",
   "execution_count": 22,
   "metadata": {
    "collapsed": true
   },
   "outputs": [],
   "source": [
    "import sys\n",
    "sys.path.insert(0, '/Users/detcitty/Documents/Stan/loo/loo/')\n",
    "\n",
    "from psisloo import psisloo\n",
    "\n"
   ]
  },
  {
   "cell_type": "code",
   "execution_count": 26,
   "metadata": {
    "collapsed": false
   },
   "outputs": [
    {
     "name": "stdout",
     "output_type": "stream",
     "text": [
      "(-1969.2572329257655, array([-0.32739442, -0.7185039 , -1.1631651 , ..., -0.8212528 ,\n",
      "       -0.77313679, -0.60782668]), array([-0.23255912, -0.05524623, -0.06736831, ..., -0.20792367,\n",
      "       -0.28384624, -0.07717127]))\n"
     ]
    }
   ],
   "source": [
    "test = loo.psisloo(logLik)\n",
    "print test"
   ]
  },
  {
   "cell_type": "code",
   "execution_count": null,
   "metadata": {
    "collapsed": true
   },
   "outputs": [],
   "source": []
  }
 ],
 "metadata": {
  "kernelspec": {
   "display_name": "Python 2",
   "language": "python",
   "name": "python2"
  },
  "language_info": {
   "codemirror_mode": {
    "name": "ipython",
    "version": 2
   },
   "file_extension": ".py",
   "mimetype": "text/x-python",
   "name": "python",
   "nbconvert_exporter": "python",
   "pygments_lexer": "ipython2",
   "version": "2.7.11"
  }
 },
 "nbformat": 4,
 "nbformat_minor": 0
}
